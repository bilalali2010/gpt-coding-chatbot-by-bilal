import modules
from transformers import pipeline, Conversation
import gradio as gr
code
Sentiment Analysis
# toy example 1
pipeline(task="sentiment-analysis")("Love this!")
No model was supplied, defaulted to distilbert-base-uncased-finetuned-sst-2-english and revision af0f99b (https://huggingface.co/distilbert-base-uncased-finetuned-sst-2-english).
Using a pipeline without specifying a model name and revision in production is not recommended.
Xformers is not installed correctly. If you want to use memory_efficient_attention to accelerate training use the following command to install Xformers
pip install xformers.
[{'label': 'POSITIVE', 'score': 0.9998745918273926}]
# toy example 2
pipeline(task="sentiment-analysis", model="distilbert-base-uncased-finetuned-sst-2-english")("Love this!")
[{'label': 'POSITIVE', 'score': 0.9998745918273926}]
More Sentiment Analysis
# defining classifier
classifier = pipeline(task="sentiment-analysis", model="distilbert-base-uncased-finetuned-sst-2-english")
classifier("Hate this.")
[{'label': 'NEGATIVE', 'score': 0.9997110962867737}]
# we can also pass in a list to classifier
text_list = ["This is great", \
             "Thanks for nothing", \
             "You've got to work on your face", \
             "You're beautiful, never change!"]

classifier(text_list)
[{'label': 'POSITIVE', 'score': 0.9998785257339478},
 {'label': 'POSITIVE', 'score': 0.9680058360099792},
 {'label': 'NEGATIVE', 'score': 0.8776106238365173},
 {'label': 'POSITIVE', 'score': 0.9998120665550232}]
# if there are multiple target labels, we can return them all
classifier = pipeline(task="text-classification", model="SamLowe/roberta-base-go_emotions", top_k=None)
classifier(text_list[0])
[[{'label': 'admiration', 'score': 0.9526104927062988},
  {'label': 'approval', 'score': 0.03047208860516548},
  {'label': 'neutral', 'score': 0.015236231498420238},
  {'label': 'excitement', 'score': 0.006063772831112146},
  {'label': 'gratitude', 'score': 0.005296189337968826},
  {'label': 'joy', 'score': 0.004475208930671215},
  {'label': 'curiosity', 'score': 0.004322327673435211},
  {'label': 'realization', 'score': 0.004089603666216135},
  {'label': 'optimism', 'score': 0.004077219869941473},
  {'label': 'disapproval', 'score': 0.004076569341123104},
  {'label': 'annoyance', 'score': 0.003528739558532834},
  {'label': 'surprise', 'score': 0.0029730673413723707},
  {'label': 'disappointment', 'score': 0.0027346380520612},
  {'label': 'love', 'score': 0.0026945790741592646},
  {'label': 'amusement', 'score': 0.002486741403117776},
  {'label': 'confusion', 'score': 0.002360740676522255},
  {'label': 'pride', 'score': 0.002101337304338813},
  {'label': 'sadness', 'score': 0.0017730521503835917},
  {'label': 'anger', 'score': 0.0017196915578097105},
  {'label': 'caring', 'score': 0.0013670074986293912},
  {'label': 'desire', 'score': 0.0010478721233084798},
  {'label': 'disgust', 'score': 0.0009689937578514218},
  {'label': 'fear', 'score': 0.0005249780369922519},
  {'label': 'relief', 'score': 0.0004862115893047303},
  {'label': 'embarrassment', 'score': 0.0003417508560232818},
  {'label': 'grief', 'score': 0.0003389194898772985},
  {'label': 'remorse', 'score': 0.0002780951326712966},
  {'label': 'nervousness', 'score': 0.0002078844845527783}]]
Summarization
summarizer = pipeline("summarization", model="facebook/bart-large-cnn")
text = """
Hugging Face is an AI company that has become a major hub for open-source machine learning. 
Their platform has 3 major elements which allow users to access and share machine learning resources. 
First, is their rapidly growing repository of pre-trained open-source machine learning models for things such as natural language processing (NLP), computer vision, and more. 
Second, is their library of datasets for training machine learning models for almost any task. 
Third, and finally, is Spaces which is a collection of open-source ML apps.

The power of these resources is that they are community generated, which leverages all the benefits of open source i.e. cost-free, wide diversity of tools, high quality resources, and rapid pace of innovation. 
While these make building powerful ML projects more accessible than before, there is another key element of the Hugging Face ecosystem—their Transformers library.
"""
summarized_text = summarizer(text, min_length=5, max_length=140)[0]['summary_text']
summarized_text
'Hugging Face is an AI company that has become a major hub for open-source machine learning. They have 3 major elements which allow users to access and share machine learning resources.'
classifier(summarized_text)
[[{'label': 'neutral', 'score': 0.9101783633232117},
  {'label': 'approval', 'score': 0.08781372010707855},
  {'label': 'realization', 'score': 0.023256294429302216},
  {'label': 'annoyance', 'score': 0.006623792927712202},
  {'label': 'admiration', 'score': 0.004981081001460552},
  {'label': 'disapproval', 'score': 0.004730119835585356},
  {'label': 'optimism', 'score': 0.0033590723760426044},
  {'label': 'disappointment', 'score': 0.0026190048083662987},
  {'label': 'confusion', 'score': 0.0019539776258170605},
  {'label': 'excitement', 'score': 0.0012417063117027283},
  {'label': 'disgust', 'score': 0.0011407802812755108},
  {'label': 'joy', 'score': 0.0010540130315348506},
  {'label': 'amusement', 'score': 0.0009572382550686598},
  {'label': 'love', 'score': 0.0008871068712323904},
  {'label': 'desire', 'score': 0.0008553270599804819},
  {'label': 'curiosity', 'score': 0.0008261068142019212},
  {'label': 'anger', 'score': 0.0007336389389820397},
  {'label': 'caring', 'score': 0.0006971127004362643},
  {'label': 'sadness', 'score': 0.0006702448008581996},
  {'label': 'gratitude', 'score': 0.0006645717658102512},
  {'label': 'surprise', 'score': 0.0005773786688223481},
  {'label': 'relief', 'score': 0.0004789051308762282},
  {'label': 'fear', 'score': 0.0004512510495260358},
  {'label': 'pride', 'score': 0.00035174345248378813},
  {'label': 'embarrassment', 'score': 0.00032615300733596087},
  {'label': 'remorse', 'score': 0.0001947579876286909},
  {'label': 'nervousness', 'score': 0.00018521495803724974},
  {'label': 'grief', 'score': 0.00016037873865570873}]]
Conversational
chatbot = pipeline(model="facebook/blenderbot-400M-distill")
conversation = chatbot("Hi I'm Shaw, how are you?")
conversation
Conversation id: 5d4166e0-c207-4060-b1ae-253861d045ab 
user >> Hi I'm Shaw, how are you? 
bot >>  I'm doing well. How are you doing this evening? I just got home from work. 
conversation = chatbot("Where do you work?")
conversation
Conversation id: 5d4166e0-c207-4060-b1ae-253861d045ab 
user >> Hi I'm Shaw, how are you? 
bot >>  I'm doing well. How are you doing this evening? I just got home from work. 
user >> Where do you work? 
bot >>  I work at a grocery store. What about you? What do you do for a living? 
Deploy Chatbot UI
Text Sentiment Chatbot
def top3_text_classes(message, history):
    return str(classifier(message)[0][:3]).replace('}, {', '\n').replace('[{', '').replace('}]', '')

demo_sentiment = gr.ChatInterface(top3_text_classes, title="Text Sentiment Chatbot", description="Enter your text, and the chatbot will classify the sentiment.")

demo_sentiment.launch()
Running on local URL:  http://127.0.0.1:7860

To create a public link, set `share=True` in `launch()`.
Summarizer Chatbot
def summarizer_bot(message, history):
    return summarizer(message, min_length=5, max_length=140)[0]['summary_text']

demo_summarizer = gr.ChatInterface(summarizer_bot, title="Summarizer Chatbot", description="Enter your text, and the chatbot will return the summarized version.")

demo_summarizer.launch()
Running on local URL:  http://127.0.0.1:7861

To create a public link, set `share=True` in `launch()`.
Vanilla Chatbot
message_list = []
response_list = []

def vanilla_chatbot(message, history):
    conversation = chatbot(message)
    
    return conversation[0]['generated_text']

demo_chatbot = gr.ChatInterface(vanilla_chatbot, title="Vanilla Chatbot", description="Enter text to start chatting.")

demo_chatbot.launch()
Running on local URL:  http://127.0.0.1:7863

To create a public link, set `share=True` in `launch()`.
test
[]
['tes']
[' Do you like teslas? They are a type of cylinder shaped object.']
test
[['tes', ' Do you like teslas? They are a type of cylinder shaped object.']]
['tes', 'Hello']
[' Do you like teslas? They are a type of cylinder shaped object.', ' Do you have a favorite type of tesla? They have been around since 1973.']
